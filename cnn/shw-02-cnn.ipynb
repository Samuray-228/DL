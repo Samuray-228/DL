{
 "cells": [
  {
   "cell_type": "markdown",
   "metadata": {
    "id": "w35Q6hOIy4sk",
    "pycharm": {
     "name": "#%% md\n"
    }
   },
   "source": [
    "# Глубинное обучение 1 / Введение в глубинное обучение, ФКН ВШЭ\n",
    "\n",
    "## Домашнее задание 2: сверточный классификатор.\n",
    "\n",
    "### Общая информация\n",
    "\n",
    "Оценка после штрафа после мягкого дедлайна вычисляется по формуле $M_{\\text{penalty}} = M_{\\text{full}} \\cdot 0.85^{t/1440}$, где $M_{\\text{full}}$ — полная оценка за работу без учета штрафа, а $t$ — время в минутах, прошедшее после мягкого дедлайна (округление до двух цифр после запятой). Таким образом, спустя первые сутки после мягкого дедлайна вы не можете получить оценку выше 8.5, а если сдать через четыре дня после мягкого дедлайна, то ваш максимум — 5.22 балла.\n",
    "\n",
    "### Оценивание и штрафы\n",
    "\n",
    "Максимально допустимая оценка за работу — 10 баллов. Сдавать задание после указанного срока сдачи нельзя.\n",
    "\n",
    "Задание выполняется самостоятельно. «Похожие» решения считаются плагиатом и все задействованные студенты (в том числе те, у кого списали) не могут получить за него больше 0 баллов. Если вы нашли решение какого-то из заданий (или его часть) в открытом источнике, необходимо указать ссылку на этот источник в отдельном блоке в конце вашей работы (скорее всего вы будете не единственным, кто это нашел, поэтому чтобы исключить подозрение в плагиате, необходима ссылка на источник).\n",
    "\n",
    "Неэффективная реализация кода может негативно отразиться на оценке. Также оценка может быть снижена за плохо читаемый код и плохо оформленные графики. Все ответы должны сопровождаться кодом или комментариями о том, как они были получены.\n",
    "\n",
    "### О задании\n",
    "\n",
    "В этом задании вам предстоит познакомиться со сверточными сетями и их обучением для классификации изображений с использованием библиотеки PyTorch.\n"
   ]
  },
  {
   "cell_type": "code",
   "execution_count": 2,
   "metadata": {
    "id": "SaACifdX2QOo",
    "pycharm": {
     "name": "#%%\n"
    }
   },
   "outputs": [],
   "source": [
    "import torch\n",
    "import torch.nn as nn\n",
    "import torch.nn.functional as F\n",
    "import torch.optim as optim\n",
    "import torchvision\n",
    "import torchvision.transforms as transforms\n",
    "\n",
    "import matplotlib.pyplot as plt\n",
    "import numpy as np\n",
    "\n",
    "from sklearn.model_selection import train_test_split"
   ]
  },
  {
   "cell_type": "markdown",
   "metadata": {
    "id": "TIXaUYM-0JFl",
    "pycharm": {
     "name": "#%% md\n"
    }
   },
   "source": [
    "## 0. Загрузка данных\n",
    "\n",
    "Работать мы будем с набором данных [CIFAR10](https://www.cs.toronto.edu/~kriz/cifar.html). CIFAR10 представляет собой набор изображений 32х32 пикселя, разделенных на 10 классов.\n",
    "\n",
    "![title](https://pytorch.org/tutorials/_images/cifar10.png)\n",
    "\n",
    "\n"
   ]
  },
  {
   "cell_type": "markdown",
   "metadata": {
    "id": "g-0EEjl_10vB",
    "pycharm": {
     "name": "#%% md\n"
    }
   },
   "source": [
    "Набор данных уже определен в <code>torchvision.datasets</code>, так что возьмем его оттуда. \n",
    "\n"
   ]
  },
  {
   "cell_type": "code",
   "execution_count": 3,
   "metadata": {
    "id": "Cbwe92dT3aPZ",
    "pycharm": {
     "name": "#%%\n"
    }
   },
   "outputs": [],
   "source": [
    "def get_cifar10_data(batch_size, transform_train):\n",
    "    torch.manual_seed(0)\n",
    "    np.random.seed(0)\n",
    "\n",
    "    transform_test = transforms.Compose(\n",
    "        [transforms.ToTensor(),\n",
    "         # Переводим цвета пикселей в отрезок [-1, 1]\n",
    "         transforms.Normalize((0.5, 0.5, 0.5), (0.5, 0.5, 0.5))]\n",
    "    )\n",
    "    \n",
    "    # Загружаем данные\n",
    "    trainvalset = torchvision.datasets.CIFAR10(root='./data', train=True,\n",
    "                                               download=True, transform=transform_train)\n",
    "    testset = torchvision.datasets.CIFAR10(root='./data', train=False,\n",
    "                                           download=True, transform=transform_test)\n",
    "    \n",
    "    # В датасете определено разбиение только на train и test,\n",
    "    # так что валидацию дополнительно выделяем из обучающей выборки\n",
    "    train_idx, valid_idx = train_test_split(np.arange(len(trainvalset)), test_size=0.3, \n",
    "                                            shuffle=True, random_state=0)\n",
    "    trainset = torch.utils.data.Subset(trainvalset, train_idx)\n",
    "    valset = torch.utils.data.Subset(trainvalset, valid_idx)\n",
    "\n",
    "    train_loader = torch.utils.data.DataLoader(trainset, batch_size=batch_size,\n",
    "                                               shuffle=True, num_workers=2)\n",
    "    val_loader = torch.utils.data.DataLoader(valset, batch_size=batch_size,\n",
    "                                             shuffle=False, num_workers=2)\n",
    "    test_loader = torch.utils.data.DataLoader(testset, batch_size=batch_size,\n",
    "                                              shuffle=False, num_workers=2)\n",
    "    \n",
    "    return train_loader, val_loader, test_loader\n",
    "    "
   ]
  },
  {
   "cell_type": "code",
   "execution_count": 4,
   "metadata": {
    "colab": {
     "base_uri": "https://localhost:8080/",
     "height": 101,
     "referenced_widgets": [
      "aa9da821ba0c42b5b051355e50e691f0",
      "95c5696493db48738dbdc9940acec1d8",
      "fe515a1f743f49d0b251b43919d52a8e",
      "f4f339c969fd4e21bc683ecb2567897b",
      "17b2be81159e41f1a5c6bb966516572e",
      "22bb21a6c57a413fb7374efe31349e6e",
      "18b20091dbf64b129824a8fb3266e3c0",
      "9bad0d6a00c14229b0d776a2cfe15090",
      "0fee9f5b7bdb4129a71ef0cfe9d3b1fa",
      "cd991379661b4b4ab405bf66f75c6834",
      "7d238166caf64537ad9aa2040dcdc1ec"
     ]
    },
    "id": "2G2rLnN5y6Jj",
    "outputId": "542c91e6-44f6-4e26-f1e8-5df3b83fd044",
    "pycharm": {
     "name": "#%%\n"
    }
   },
   "outputs": [
    {
     "name": "stdout",
     "output_type": "stream",
     "text": [
      "Files already downloaded and verified\n",
      "Files already downloaded and verified\n"
     ]
    }
   ],
   "source": [
    "transform = transforms.Compose(\n",
    "        [transforms.ToTensor(),\n",
    "         transforms.Normalize((0.5, 0.5, 0.5), (0.5, 0.5, 0.5))]\n",
    ")\n",
    "\n",
    "train_loader, val_loader, test_loader = get_cifar10_data(batch_size=64, \n",
    "                                                         transform_train=transform)"
   ]
  },
  {
   "cell_type": "markdown",
   "metadata": {
    "id": "-82HWgXs77W1",
    "pycharm": {
     "name": "#%% md\n"
    }
   },
   "source": [
    "Посмотрим на изображения:"
   ]
  },
  {
   "cell_type": "code",
   "execution_count": 5,
   "metadata": {
    "colab": {
     "base_uri": "https://localhost:8080/",
     "height": 155
    },
    "id": "ACnwaC5iy6L2",
    "outputId": "fd2fc631-ea7b-45f2-9728-eb1c5f9e683c",
    "pycharm": {
     "name": "#%%\n"
    }
   },
   "outputs": [
    {
     "data": {
      "image/png": "[encoded data removed]",
      "text/plain": [
       "<Figure size 640x480 with 1 Axes>"
      ]
     },
     "metadata": {},
     "output_type": "display_data"
    },
    {
     "name": "stdout",
     "output_type": "stream",
     "text": [
      "ship frog horse horse\n"
     ]
    }
   ],
   "source": [
    "def imshow(img):\n",
    "    img = img / 2 + 0.5    \n",
    "    npimg = img.numpy()\n",
    "    plt.imshow(np.transpose(npimg, (1, 2, 0)))\n",
    "    plt.show()\n",
    "\n",
    "\n",
    "dataiter = iter(train_loader)\n",
    "images, labels = next(dataiter)\n",
    "\n",
    "imshow(torchvision.utils.make_grid(images[:4]))\n",
    "\n",
    "classes = ('plane', 'car', 'bird', 'cat',\n",
    "           'deer', 'dog', 'frog', 'horse', 'ship', 'truck')\n",
    "print(*[classes[labels[i]] for i in range(4)])"
   ]
  },
  {
   "cell_type": "markdown",
   "metadata": {
    "id": "KFDilng29YZ_",
    "pycharm": {
     "name": "#%% md\n"
    }
   },
   "source": [
    "## 1. Задание сверточной сети (3 балла)"
   ]
  },
  {
   "cell_type": "markdown",
   "metadata": {
    "id": "OX7Ul8YbYdQR",
    "pycharm": {
     "name": "#%% md\n"
    }
   },
   "source": [
    "Теперь нам нужно задать сверточную нейронную сеть, которую мы будем обучать классифицировать изображения.\n",
    "\n",
    "Используем сеть, основанную на одном блоке архитектуры ResNet.\n",
    "\n",
    "<img src=\"https://i.ibb.co/2hg962h/basic-block.png\" width=\"500\"/>\n",
    "\n",
    "__Указания:__\n",
    "\n",
    "- Все сверточные слои должны иметь 32 выходных канала, а также не должны изменять ширину и высоту изображения.\n",
    "- Выход блока сократите до размерности 32х4х4, применив average pooling.\n",
    "- Для получения итоговых логитов, распрямите выход пулинга в вектор из 512 элементов, а затем пропустите его через линейный слой."
   ]
  },
  {
   "cell_type": "markdown",
   "metadata": {
    "id": "sbyIylT9O9Dr",
    "pycharm": {
     "name": "#%% md\n"
    }
   },
   "source": [
    "**Задание 1.1 (3 балла).**\n",
    "\n",
    "Определите архитектуру сети соответственно схеме и указаниям выше.\n",
    "\n",
    "Ключевые слова: <code>Conv2d</code>, <code>BatchNorm2d</code>, <code>AvgPool2d</code>."
   ]
  },
  {
   "cell_type": "code",
   "execution_count": 6,
   "metadata": {
    "id": "s9ml1QGKy6N9",
    "pycharm": {
     "name": "#%%\n"
    }
   },
   "outputs": [],
   "source": [
    "n_classes = 10\n",
    "\n",
    "class BasicBlockNet(nn.Module):\n",
    "    def __init__(self):\n",
    "        super().__init__()\n",
    "        \n",
    "        self.block1 = nn.Sequential(\n",
    "            nn.Conv2d(in_channels=3, out_channels=32, kernel_size=3, padding=1),\n",
    "            nn.BatchNorm2d(num_features=32),\n",
    "            nn.ReLU(),\n",
    "            nn.Conv2d(in_channels=32, out_channels=32, kernel_size=3, padding=1),\n",
    "            nn.BatchNorm2d(num_features=32)\n",
    "        )\n",
    "        self.block2 = nn.Conv2d(in_channels=3, out_channels=32, kernel_size=1)\n",
    "        self.block3 = nn.Sequential(\n",
    "            nn.ReLU(),\n",
    "            nn.AvgPool2d(kernel_size=8)\n",
    "        )\n",
    "        self.block4 = nn.Linear(in_features=512, out_features=n_classes)\n",
    "\n",
    "    def forward(self, x):\n",
    "        out = self.block3(self.block1(x) + self.block2(x))\n",
    "        out = torch.flatten(out, start_dim=1)\n",
    "        out = self.block4(out)\n",
    "\n",
    "        return out"
   ]
  },
  {
   "cell_type": "code",
   "execution_count": 7,
   "metadata": {
    "id": "FI4BQg7Ky6Pw",
    "pycharm": {
     "name": "#%%\n"
    }
   },
   "outputs": [
    {
     "data": {
      "text/plain": [
       "BasicBlockNet(\n",
       "  (block1): Sequential(\n",
       "    (0): Conv2d(3, 32, kernel_size=(3, 3), stride=(1, 1), padding=(1, 1))\n",
       "    (1): BatchNorm2d(32, eps=1e-05, momentum=0.1, affine=True, track_running_stats=True)\n",
       "    (2): ReLU()\n",
       "    (3): Conv2d(32, 32, kernel_size=(3, 3), stride=(1, 1), padding=(1, 1))\n",
       "    (4): BatchNorm2d(32, eps=1e-05, momentum=0.1, affine=True, track_running_stats=True)\n",
       "  )\n",
       "  (block2): Conv2d(3, 32, kernel_size=(1, 1), stride=(1, 1))\n",
       "  (block3): Sequential(\n",
       "    (0): ReLU()\n",
       "    (1): AvgPool2d(kernel_size=8, stride=8, padding=0)\n",
       "  )\n",
       "  (block4): Linear(in_features=512, out_features=10, bias=True)\n",
       ")"
      ]
     },
     "execution_count": 7,
     "metadata": {},
     "output_type": "execute_result"
    }
   ],
   "source": [
    "net = BasicBlockNet()\n",
    "net"
   ]
  },
  {
   "cell_type": "markdown",
   "metadata": {
    "id": "igPoGZEub8d3",
    "pycharm": {
     "name": "#%% md\n"
    }
   },
   "source": [
    "Проверим, что выход сети имеет корректную размерность:"
   ]
  },
  {
   "cell_type": "code",
   "execution_count": 8,
   "metadata": {
    "id": "cCIzFUpJ_Agw",
    "pycharm": {
     "name": "#%%\n"
    }
   },
   "outputs": [],
   "source": [
    "assert net(torch.zeros((10, 3, 32, 32))).shape == (10, 10)"
   ]
  },
  {
   "cell_type": "markdown",
   "metadata": {
    "id": "08osX622cDGz",
    "pycharm": {
     "name": "#%% md\n"
    }
   },
   "source": [
    "Чтобы проводить вычисления на GPU, в PyTorch необходимо руками перекладывать объекты, с которыми вы хотите проводить вычисления, на графический ускоритель. Это делается следующим образрм:"
   ]
  },
  {
   "cell_type": "code",
   "execution_count": 9,
   "metadata": {
    "id": "56hDOMCFcDZX",
    "pycharm": {
     "name": "#%%\n"
    }
   },
   "outputs": [
    {
     "name": "stdout",
     "output_type": "stream",
     "text": [
      "mps:0\n"
     ]
    }
   ],
   "source": [
    "device = torch.device('mps:0' if torch.backends.mps.is_available() else 'cpu')\n",
    "print(device)"
   ]
  },
  {
   "cell_type": "code",
   "execution_count": 10,
   "metadata": {
    "id": "ohnDWbp0qbtC",
    "pycharm": {
     "name": "#%%\n"
    }
   },
   "outputs": [],
   "source": [
    "net = net.to(device)"
   ]
  },
  {
   "cell_type": "markdown",
   "metadata": {
    "id": "H_bOlTVUp5QF",
    "pycharm": {
     "name": "#%% md\n"
    }
   },
   "source": [
    "Подключение GPU в google.colab:\n",
    "\n",
    "**Среда выполнения** -> **Сменить среду выполнения** -> **Аппаратный ускоритель** -> **GPU**"
   ]
  },
  {
   "cell_type": "markdown",
   "metadata": {
    "id": "AGi6XX_7_Bgg",
    "pycharm": {
     "name": "#%% md\n"
    }
   },
   "source": [
    "## 2. Обучение и тестирование модели (3 балла)"
   ]
  },
  {
   "cell_type": "markdown",
   "metadata": {
    "id": "0agj_MQoO9Ds",
    "pycharm": {
     "name": "#%% md\n"
    }
   },
   "source": [
    "**Задание 2.1 (2 балла).** Переходим к обучению модели. Заполните пропуски в функциях <code>test</code> и <code>train_epoch</code>. В качестве функции потерь будем использовать [кросс-энтропию](https://pytorch.org/docs/stable/generated/torch.nn.functional.cross_entropy.html), а в качестве метрики качества accuracy."
   ]
  },
  {
   "cell_type": "code",
   "execution_count": 47,
   "metadata": {
    "id": "g8gsPPRIevDS",
    "pycharm": {
     "name": "#%%\n"
    }
   },
   "outputs": [],
   "source": [
    "def test(model, loader):\n",
    "    loss_log = []\n",
    "    acc_log = []\n",
    "    model.eval()\n",
    "    \n",
    "    for data, target in loader:\n",
    "        \n",
    "        data = data.to(device)\n",
    "        target = target.to(device)\n",
    "        out = model(data)\n",
    "        loss = F.cross_entropy(out, target)\n",
    "        \n",
    "        loss_log.append(loss.item())\n",
    "        \n",
    "        pred = torch.argmax(out, dim=1)\n",
    "        acc = (pred == target).sum() / len(target)\n",
    "        \n",
    "        acc_log.append(acc.item()) \n",
    "        \n",
    "    return np.mean(loss_log), np.mean(acc_log)\n",
    "\n",
    "def train_epoch(model, optimizer, train_loader):\n",
    "    loss_log = []\n",
    "    acc_log = []\n",
    "    model.train()\n",
    "    \n",
    "    for data, target in train_loader:\n",
    "        \n",
    "        data = data.to(device)\n",
    "        target = target.to(device)\n",
    "        optimizer.zero_grad()\n",
    "        out = model(data)\n",
    "        loss = F.cross_entropy(out, target)\n",
    "        loss.backward()\n",
    "        optimizer.step()\n",
    "        \n",
    "        loss_log.append(loss.item())\n",
    "        \n",
    "        pred = torch.argmax(out, dim=1)\n",
    "        acc = (pred == target).sum() / len(target)\n",
    "        \n",
    "        acc_log.append(acc.item()) \n",
    "\n",
    "    return loss_log, acc_log\n",
    "\n",
    "def train(model, optimizer, n_epochs, train_loader, val_loader, scheduler=None):\n",
    "    train_loss_log, train_acc_log, val_loss_log, val_acc_log = [], [], [], []\n",
    "\n",
    "    for epoch in range(n_epochs):\n",
    "        train_loss, train_acc = train_epoch(model, optimizer, train_loader)\n",
    "        val_loss, val_acc = test(model, val_loader)\n",
    "        \n",
    "        train_loss_log.extend(train_loss)\n",
    "        train_acc_log.extend(train_acc)\n",
    "        \n",
    "        val_loss_log.append(val_loss)\n",
    "        val_acc_log.append(val_acc)\n",
    "\n",
    "        print(f\"Epoch {epoch}\")\n",
    "        print(f\" train loss: {np.mean(train_loss)}, train acc: {np.mean(train_acc)}\")\n",
    "        print(f\" val loss: {val_loss}, val acc: {val_acc}\\n\")\n",
    "        \n",
    "        if scheduler is not None:\n",
    "            scheduler.step()\n",
    "\n",
    "    return train_loss_log, train_acc_log, val_loss_log, val_acc_log"
   ]
  },
  {
   "cell_type": "markdown",
   "metadata": {
    "id": "iSOqk_CAO9Dt",
    "pycharm": {
     "name": "#%% md\n"
    }
   },
   "source": [
    "Запустим обучение модели. В качестве оптимизатора будем использовать стохастический градиентный спуск, который является де-факто стандартом в задачах компьютерного зрения (наравне с <code>Adam</code>).\n",
    "\n",
    "__Замечание:__ Для достижения наилучшего качества в нашем случае потребуется обучать модель несколько сотен эпох. Однако в целях экономии вашего времени и сил, во всех экспериментах мы ограничимся 20 эпохами."
   ]
  },
  {
   "cell_type": "code",
   "execution_count": 48,
   "metadata": {
    "id": "MKZBGhuAgMDu",
    "pycharm": {
     "name": "#%%\n"
    },
    "scrolled": true
   },
   "outputs": [
    {
     "name": "stdout",
     "output_type": "stream",
     "text": [
      "Epoch 0\n",
      " train loss: 1.4576116666279502, train acc: 0.482004113345521\n",
      " val loss: 1.2239478976168532, val acc: 0.5654255319148936\n",
      "\n",
      "Epoch 1\n",
      " train loss: 1.144844663971303, train acc: 0.5993405589237946\n",
      " val loss: 1.1153858884851984, val acc: 0.6169326241980208\n",
      "\n",
      "Epoch 2\n",
      " train loss: 1.033898830304852, train acc: 0.6415349960980947\n",
      " val loss: 1.074184682775051, val acc: 0.6302969859001485\n",
      "\n",
      "Epoch 3\n",
      " train loss: 0.9847553718896409, train acc: 0.659441107369864\n",
      " val loss: 1.061291620325535, val acc: 0.6354609928232559\n",
      "\n",
      "Epoch 4\n",
      " train loss: 0.947435462932482, train acc: 0.6717933859860004\n",
      " val loss: 0.9776491489816219, val acc: 0.6610815603682335\n",
      "\n",
      "Epoch 5\n",
      " train loss: 0.9254832132642841, train acc: 0.6772452010968921\n",
      " val loss: 0.9617138852464392, val acc: 0.6701462765957447\n",
      "\n",
      "Epoch 6\n",
      " train loss: 0.8976174268251799, train acc: 0.689368960517416\n",
      " val loss: 1.058740787303194, val acc: 0.6465203901554676\n",
      "\n",
      "Epoch 7\n",
      " train loss: 0.8821779666587684, train acc: 0.6923805171218607\n",
      " val loss: 0.9362127091022248, val acc: 0.6787677305809995\n",
      "\n",
      "Epoch 8\n",
      " train loss: 0.8607347799393551, train acc: 0.7010438430243916\n",
      " val loss: 0.9324219566710452, val acc: 0.6777039007937654\n",
      "\n",
      "Epoch 9\n",
      " train loss: 0.8486912514217593, train acc: 0.705814181232801\n",
      " val loss: 0.9141624369519822, val acc: 0.6844414893617021\n",
      "\n",
      "Epoch 10\n",
      " train loss: 0.8340734331655764, train acc: 0.7105477931730491\n",
      " val loss: 0.9095364902881866, val acc: 0.6890735816448292\n",
      "\n",
      "Epoch 11\n",
      " train loss: 0.824801867960576, train acc: 0.7166892465551331\n",
      " val loss: 0.9095437521630145, val acc: 0.6839317375041069\n",
      "\n",
      "Epoch 12\n",
      " train loss: 0.8104125216085688, train acc: 0.720598557095641\n",
      " val loss: 0.9136784982174001, val acc: 0.688874113559723\n",
      "\n",
      "Epoch 13\n",
      " train loss: 0.8018579439445649, train acc: 0.7201823256569327\n",
      " val loss: 0.9512865817293208, val acc: 0.6776152481424048\n",
      "\n",
      "Epoch 14\n",
      " train loss: 0.793876310916008, train acc: 0.722455275559992\n",
      " val loss: 0.8693930846579532, val acc: 0.7036347518575953\n",
      "\n",
      "Epoch 15\n",
      " train loss: 0.7842338661607049, train acc: 0.7280784800675931\n",
      " val loss: 0.864504130850447, val acc: 0.7046764183551707\n",
      "\n",
      "Epoch 16\n",
      " train loss: 0.7790460538057784, train acc: 0.7287232305929473\n",
      " val loss: 0.85629098237829, val acc: 0.7068705672913409\n",
      "\n",
      "Epoch 17\n",
      " train loss: 0.7676070409893335, train acc: 0.7327345586781964\n",
      " val loss: 0.921210799065042, val acc: 0.6883643617021277\n",
      "\n",
      "Epoch 18\n",
      " train loss: 0.7588172820303078, train acc: 0.7344484526452896\n",
      " val loss: 0.9184613590544842, val acc: 0.6932845744680851\n",
      "\n",
      "Epoch 19\n",
      " train loss: 0.75255424917507, train acc: 0.7392351135911192\n",
      " val loss: 0.8726753659704898, val acc: 0.7027260638297872\n",
      "\n"
     ]
    }
   ],
   "source": [
    "optimizer = optim.SGD(net.parameters(), lr=0.1, momentum=0.9)\n",
    "train_loss_log, train_acc_log, val_loss_log, val_acc_log = train(net, optimizer, 20, train_loader, val_loader)"
   ]
  },
  {
   "cell_type": "markdown",
   "metadata": {
    "id": "gUb1jQW8O9Dt",
    "pycharm": {
     "name": "#%% md\n"
    }
   },
   "source": [
    "Посчитайте точность на тестовой выборке:"
   ]
  },
  {
   "cell_type": "code",
   "execution_count": 49,
   "metadata": {
    "id": "Jyuc55B9_Amc",
    "pycharm": {
     "name": "#%%\n"
    }
   },
   "outputs": [
    {
     "name": "stdout",
     "output_type": "stream",
     "text": [
      "test loss: 0.8922296401801383, test acc: 0.6941679936305732\n"
     ]
    }
   ],
   "source": [
    "test_loss, test_acc = test(net, test_loader)\n",
    "print(f\"test loss: {test_loss}, test acc: {test_acc}\")"
   ]
  },
  {
   "cell_type": "markdown",
   "metadata": {
    "id": "zM38Q9fwO9Dt",
    "pycharm": {
     "name": "#%% md\n"
    }
   },
   "source": [
    "Если вы все сделали правильно, у вас должна была получиться точность $\\ge 67\\%$."
   ]
  },
  {
   "cell_type": "markdown",
   "metadata": {
    "id": "DHFNSKcoO9Dt",
    "pycharm": {
     "name": "#%% md\n"
    }
   },
   "source": [
    "**Задание 2.2 (1 балл).** Постройте графики зависимости функции потерь и точности классификации от номера шага оптимизатора. На каждом графике расположите данные и для обучающей и для валидационной выборки, итого у вас должно получиться два графика. Обратите внимание, что на обучающей выборке эти данные считаются по каждому батчу, на валидационной же они считаются по всей выборке раз в эпоху."
   ]
  },
  {
   "cell_type": "code",
   "execution_count": 50,
   "metadata": {
    "id": "LzIP0tGLO9Dt",
    "pycharm": {
     "name": "#%%\n"
    }
   },
   "outputs": [
    {
     "data": {
      "image/png": "[encoded data removed]",
      "text/plain": [
       "<Figure size 700x500 with 1 Axes>"
      ]
     },
     "metadata": {},
     "output_type": "display_data"
    }
   ],
   "source": [
    "plt.figure(figsize=(7, 5))\n",
    "\n",
    "plt.plot((np.mean(np.array(train_loss_log).reshape(20, -1), axis=1)), label='train')\n",
    "plt.plot(val_loss_log, label='val')\n",
    "\n",
    "plt.grid()\n",
    "plt.legend()\n",
    "plt.xlabel(\"epoch\")\n",
    "plt.ylabel(\"loss\")\n",
    "plt.title(\"Loss\")\n",
    "plt.show()"
   ]
  },
  {
   "cell_type": "code",
   "execution_count": 51,
   "metadata": {},
   "outputs": [
    {
     "data": {
      "image/png": "[encoded data removed]",
      "text/plain": [
       "<Figure size 700x500 with 1 Axes>"
      ]
     },
     "metadata": {},
     "output_type": "display_data"
    }
   ],
   "source": [
    "plt.figure(figsize=(7, 5))\n",
    "\n",
    "plt.plot((np.mean(np.array(train_acc_log).reshape(20, -1), axis=1)), label='train')\n",
    "plt.plot(val_acc_log, label='val')\n",
    "\n",
    "plt.grid()\n",
    "plt.legend()\n",
    "plt.xlabel(\"epoch\")\n",
    "plt.ylabel(\"loss\")\n",
    "plt.title(\"Loss\")\n",
    "plt.show()"
   ]
  },
  {
   "cell_type": "markdown",
   "metadata": {
    "id": "_ttOJPj-O9Dt",
    "pycharm": {
     "name": "#%% md\n"
    }
   },
   "source": [
    "## 3. Расписание длины шага (2 балла)"
   ]
  },
  {
   "cell_type": "markdown",
   "metadata": {
    "id": "qiz3JstuO9Dt",
    "pycharm": {
     "name": "#%% md\n"
    }
   },
   "source": [
    "С курса \"Машинное обучение 1\" вы уже должны знать, что сходимость стохастического градиентного спуска мы можем теоретически гарантировать только если будем определенным образом со временем уменьшать длину шага. На практике при обучении нейронных сетей такая техника оказывается очень полезной, однако теоретически обоснованными способами уменьшения длины шага фантазия не ограничивается.\n",
    "\n",
    "Одним из простейших способов является кусочно постоянная функция: на нескольких фиксированных эпохах уменьшаем длину шага в константу раз."
   ]
  },
  {
   "cell_type": "code",
   "execution_count": 52,
   "metadata": {
    "id": "V2Z0OT3nO9Du",
    "pycharm": {
     "name": "#%%\n"
    }
   },
   "outputs": [
    {
     "name": "stdout",
     "output_type": "stream",
     "text": [
      "Epoch 0\n",
      " train loss: 1.4737448015640162, train acc: 0.47575248104998574\n",
      " val loss: 1.2830958916785868, val acc: 0.5469193263256803\n",
      "\n",
      "Epoch 1\n",
      " train loss: 1.1637742384260272, train acc: 0.5895836053644281\n",
      " val loss: 1.1211588560266699, val acc: 0.6084441489361702\n",
      "\n",
      "Epoch 2\n",
      " train loss: 1.0534800331378986, train acc: 0.6322350809299532\n",
      " val loss: 1.2129232381252533, val acc: 0.5801640071767442\n",
      "\n",
      "Epoch 3\n",
      " train loss: 0.9898765261473995, train acc: 0.6540790676416819\n",
      " val loss: 0.9846501180466185, val acc: 0.6636081561129143\n",
      "\n",
      "Epoch 4\n",
      " train loss: 0.953580466659239, train acc: 0.668945057409555\n",
      " val loss: 0.9566727250180346, val acc: 0.6714095744680851\n",
      "\n",
      "Epoch 5\n",
      " train loss: 0.9184979830734037, train acc: 0.6794242948239203\n",
      " val loss: 0.9485283526968449, val acc: 0.6730496454746165\n",
      "\n",
      "Epoch 6\n",
      " train loss: 0.8972974270309783, train acc: 0.6877815683101606\n",
      " val loss: 0.9178885135244816, val acc: 0.6832003545253835\n",
      "\n",
      "Epoch 7\n",
      " train loss: 0.8818424107605622, train acc: 0.6914337947556044\n",
      " val loss: 0.8861813078535364, val acc: 0.6945700353764473\n",
      "\n",
      "Epoch 8\n",
      " train loss: 0.8588928969839156, train acc: 0.7012111517367459\n",
      " val loss: 0.8945711384428309, val acc: 0.692154255319149\n",
      "\n",
      "Epoch 9\n",
      " train loss: 0.8488615809563527, train acc: 0.7072138613059272\n",
      " val loss: 0.8855847044193998, val acc: 0.6956117021276595\n",
      "\n",
      "Epoch 10\n",
      " train loss: 0.7392249049608625, train acc: 0.7454541003028479\n",
      " val loss: 0.8260605352990171, val acc: 0.7179078013338941\n",
      "\n",
      "Epoch 11\n",
      " train loss: 0.721594408127246, train acc: 0.7503019718409021\n",
      " val loss: 0.8183918024631257, val acc: 0.7196808510638298\n",
      "\n",
      "Epoch 12\n",
      " train loss: 0.7163648393951778, train acc: 0.7534277879341865\n",
      " val loss: 0.8176634172175793, val acc: 0.7199911348363186\n",
      "\n",
      "Epoch 13\n",
      " train loss: 0.7113596653698567, train acc: 0.7554762993259884\n",
      " val loss: 0.8187222868838209, val acc: 0.7193262412192973\n",
      "\n",
      "Epoch 14\n",
      " train loss: 0.7060695166888576, train acc: 0.7540521350377657\n",
      " val loss: 0.8121807840276272, val acc: 0.7220744680851063\n",
      "\n",
      "Epoch 15\n",
      " train loss: 0.6931821865181165, train acc: 0.7609117915904936\n",
      " val loss: 0.8065669310853837, val acc: 0.7240248226104898\n",
      "\n",
      "Epoch 16\n",
      " train loss: 0.6915103920090133, train acc: 0.762156405113297\n",
      " val loss: 0.8045049855049621, val acc: 0.725620567291341\n",
      "\n",
      "Epoch 17\n",
      " train loss: 0.6885797659810327, train acc: 0.7636172956696812\n",
      " val loss: 0.8050924230129161, val acc: 0.7242242906955962\n",
      "\n",
      "Epoch 18\n",
      " train loss: 0.6899629335516767, train acc: 0.7632377904991345\n",
      " val loss: 0.806253857054609, val acc: 0.7238696808510638\n",
      "\n",
      "Epoch 19\n",
      " train loss: 0.6881569853321508, train acc: 0.7631806607002314\n",
      " val loss: 0.804824093808519, val acc: 0.7250664893617021\n",
      "\n"
     ]
    }
   ],
   "source": [
    "net = BasicBlockNet().to(device)\n",
    "optimizer = optim.SGD(net.parameters(), lr=0.1, momentum=0.9)\n",
    "scheduler = optim.lr_scheduler.MultiStepLR(optimizer, milestones=[10, 15], gamma=0.1)\n",
    "tr_loss_log, tr_acc_log, val_loss_log, val_acc_log = train(net, optimizer, 20, train_loader, val_loader, scheduler)"
   ]
  },
  {
   "cell_type": "markdown",
   "metadata": {
    "id": "5Xc76KvzO9Du",
    "pycharm": {
     "name": "#%% md\n"
    }
   },
   "source": [
    "Посчитайте точность на тестовой выборке:"
   ]
  },
  {
   "cell_type": "code",
   "execution_count": 53,
   "metadata": {
    "id": "1AjiYhKqO9Du",
    "pycharm": {
     "name": "#%%\n"
    }
   },
   "outputs": [
    {
     "name": "stdout",
     "output_type": "stream",
     "text": [
      "test loss: 0.8219241165811089, test acc: 0.7188495222929936\n"
     ]
    }
   ],
   "source": [
    "test_loss, test_acc = test(net, test_loader)\n",
    "print(f\"test loss: {test_loss}, test acc: {test_acc}\")"
   ]
  },
  {
   "cell_type": "markdown",
   "metadata": {
    "id": "yE0dgLYrO9Du",
    "pycharm": {
     "name": "#%% md\n"
    }
   },
   "source": [
    "**Задание 3.0 (0.5 баллов).** Здесь может возникнуть вопрос: а что будет, если мы не будем уменьшать длину шага в процессе обучения, а сразу возьмем констатную, равную значению нашей кусочно-постоянной функции на последних эпохах, то есть $0.001$ в нашем случае. Запустите обучение и проверьте, что в таком случае мы получим худшее качество на тестовой выборке."
   ]
  },
  {
   "cell_type": "code",
   "execution_count": 54,
   "metadata": {
    "id": "qZ2iB-LBO9Du",
    "pycharm": {
     "name": "#%%\n"
    }
   },
   "outputs": [
    {
     "name": "stdout",
     "output_type": "stream",
     "text": [
      "Epoch 0\n",
      " train loss: 1.8587589159308229, train acc: 0.3467207495429616\n",
      " val loss: 1.638520041932451, val acc: 0.4319148936170213\n",
      "\n",
      "Epoch 1\n",
      " train loss: 1.5726133896620225, train acc: 0.44757932882204354\n",
      " val loss: 1.488537716358266, val acc: 0.47788120571603165\n",
      "\n",
      "Epoch 2\n",
      " train loss: 1.4449353272561836, train acc: 0.4922956385167905\n",
      " val loss: 1.4079154521860975, val acc: 0.5049645389648194\n",
      "\n",
      "Epoch 3\n",
      " train loss: 1.3608522489258315, train acc: 0.5222887829409221\n",
      " val loss: 1.3148035287857056, val acc: 0.540203900666947\n",
      "\n",
      "Epoch 4\n",
      " train loss: 1.299637307414625, train acc: 0.5451692674016168\n",
      " val loss: 1.2577030752567535, val acc: 0.5647828014607125\n",
      "\n",
      "Epoch 5\n",
      " train loss: 1.2457353484695965, train acc: 0.5635609819640625\n",
      " val loss: 1.2152899420007746, val acc: 0.5785682623690748\n",
      "\n",
      "Epoch 6\n",
      " train loss: 1.2046825444458606, train acc: 0.5809570057300588\n",
      " val loss: 1.202594034468874, val acc: 0.5804964538584364\n",
      "\n",
      "Epoch 7\n",
      " train loss: 1.1603140465956066, train acc: 0.5963004374198984\n",
      " val loss: 1.1610811281711497, val acc: 0.5912012412192974\n",
      "\n",
      "Epoch 8\n",
      " train loss: 1.1255496562725884, train acc: 0.6108399712407393\n",
      " val loss: 1.118674571717039, val acc: 0.6103945035883721\n",
      "\n",
      "Epoch 9\n",
      " train loss: 1.0902427987381136, train acc: 0.6218374575295875\n",
      " val loss: 1.0712403855425245, val acc: 0.6232491134329045\n",
      "\n",
      "Epoch 10\n",
      " train loss: 1.0649441937205997, train acc: 0.6316148146196955\n",
      " val loss: 1.0568088399603013, val acc: 0.6299423759287976\n",
      "\n",
      "Epoch 11\n",
      " train loss: 1.0380449128325286, train acc: 0.6364708475264597\n",
      " val loss: 1.0391609054930666, val acc: 0.6354831561129144\n",
      "\n",
      "Epoch 12\n",
      " train loss: 1.021207666484268, train acc: 0.6455830504515053\n",
      " val loss: 1.0035832270662834, val acc: 0.6509530140998515\n",
      "\n",
      "Epoch 13\n",
      " train loss: 0.9998294400558612, train acc: 0.6538179028622629\n",
      " val loss: 1.0337601844300615, val acc: 0.6376773050490846\n",
      "\n",
      "Epoch 14\n",
      " train loss: 0.986125503423227, train acc: 0.6573354661791591\n",
      " val loss: 0.9835577817673379, val acc: 0.657624113559723\n",
      "\n",
      "Epoch 15\n",
      " train loss: 0.9701001039370758, train acc: 0.663929877268113\n",
      " val loss: 0.9896527729135879, val acc: 0.6563829787234042\n",
      "\n",
      "Epoch 16\n",
      " train loss: 0.9597219662430954, train acc: 0.6685941172474263\n",
      " val loss: 0.9773910428615327, val acc: 0.6611923758019792\n",
      "\n",
      "Epoch 17\n",
      " train loss: 0.9534301228235583, train acc: 0.6695857273595207\n",
      " val loss: 0.9576519555233894, val acc: 0.6684618795171697\n",
      "\n",
      "Epoch 18\n",
      " train loss: 0.9367526537539537, train acc: 0.6779348393680844\n",
      " val loss: 0.9595558156358435, val acc: 0.6655141843126176\n",
      "\n",
      "Epoch 19\n",
      " train loss: 0.9317357027988329, train acc: 0.677959323583181\n",
      " val loss: 0.9349956930951869, val acc: 0.6765514183551707\n",
      "\n"
     ]
    }
   ],
   "source": [
    "net = BasicBlockNet().to(device)\n",
    "optimizer = optim.SGD(net.parameters(), lr=0.001, momentum=0.9)\n",
    "tr_loss_log, tr_acc_log, val_loss_log, val_acc_log = train(net, optimizer, 20, train_loader, val_loader)"
   ]
  },
  {
   "cell_type": "code",
   "execution_count": 55,
   "metadata": {},
   "outputs": [
    {
     "name": "stdout",
     "output_type": "stream",
     "text": [
      "test loss: 0.9370919515372841, test acc: 0.6757563694267515\n"
     ]
    }
   ],
   "source": [
    "test_loss, test_acc = test(net, test_loader)\n",
    "print(f\"test loss: {test_loss}, test acc: {test_acc}\")"
   ]
  },
  {
   "cell_type": "markdown",
   "metadata": {
    "id": "xVotU378O9Du",
    "pycharm": {
     "name": "#%% md\n"
    }
   },
   "source": [
    "**Задание 3.1 (1.5 балла).** Изучите, какие еще способы уменьшения длины шага представлены в <code>torch.optim.lr_scheduler</code>. Выберите несколько из них, объясните, как они устроены, и обучите модель с ними. Удалось ли добиться улучшения качества на тестовой выборке?"
   ]
  },
  {
   "cell_type": "code",
   "execution_count": 57,
   "metadata": {
    "id": "nkGlzocOO9Du",
    "pycharm": {
     "name": "#%%\n"
    }
   },
   "outputs": [
    {
     "name": "stdout",
     "output_type": "stream",
     "text": [
      "Epoch 0\n",
      " train loss: 1.4809556059689146, train acc: 0.47113720950086546\n",
      " val loss: 1.2341798658066607, val acc: 0.5623005319148936\n",
      "\n",
      "Epoch 1\n",
      " train loss: 1.1387012398221157, train acc: 0.6043598197495915\n",
      " val loss: 1.0746367708165594, val acc: 0.6219193263256804\n",
      "\n",
      "Epoch 2\n",
      " train loss: 1.0344742541993122, train acc: 0.6389437516167134\n",
      " val loss: 0.9904128384082875, val acc: 0.6546099289934686\n",
      "\n",
      "Epoch 3\n",
      " train loss: 0.9738224891901452, train acc: 0.6635054844606947\n",
      " val loss: 1.0275263055841974, val acc: 0.6492907800572983\n",
      "\n",
      "Epoch 4\n",
      " train loss: 0.9401103131731859, train acc: 0.6728666101120944\n",
      " val loss: 0.9652566772826174, val acc: 0.6661125885679366\n",
      "\n",
      "Epoch 5\n",
      " train loss: 0.9005183263714178, train acc: 0.6862349830554216\n",
      " val loss: 0.9416495718854538, val acc: 0.6750443263256803\n",
      "\n",
      "Epoch 6\n",
      " train loss: 0.8783978461892339, train acc: 0.6942413162705667\n",
      " val loss: 0.9185899939942868, val acc: 0.6873891843126175\n",
      "\n",
      "Epoch 7\n",
      " train loss: 0.8544361749340454, train acc: 0.7018599830554216\n",
      " val loss: 0.9052044706141695, val acc: 0.6886746454746165\n",
      "\n",
      "Epoch 8\n",
      " train loss: 0.8335738589057539, train acc: 0.7113516910420475\n",
      " val loss: 0.8847410039698824, val acc: 0.6973182624958931\n",
      "\n",
      "Epoch 9\n",
      " train loss: 0.8138804901016695, train acc: 0.7158812680017795\n",
      " val loss: 0.8999952950376146, val acc: 0.6932402481424048\n",
      "\n",
      "Epoch 10\n",
      " train loss: 0.7988122465187715, train acc: 0.7250220358262768\n",
      " val loss: 0.8872238493980246, val acc: 0.6966090425531914\n",
      "\n",
      "Epoch 11\n",
      " train loss: 0.782931556594873, train acc: 0.730612594641105\n",
      " val loss: 0.8962682077225218, val acc: 0.6914671986661058\n",
      "\n",
      "Epoch 12\n",
      " train loss: 0.7698252202169986, train acc: 0.7339954949384198\n",
      " val loss: 0.8760941837696319, val acc: 0.7026595744680851\n",
      "\n",
      "Epoch 13\n",
      " train loss: 0.7558371460633915, train acc: 0.738296552593573\n",
      " val loss: 0.85342934867169, val acc: 0.7084884752618505\n",
      "\n",
      "Epoch 14\n",
      " train loss: 0.7433842342122163, train acc: 0.7427853224918219\n",
      " val loss: 0.8510828018188477, val acc: 0.7087987587807026\n",
      "\n",
      "Epoch 15\n",
      " train loss: 0.737297092538865, train acc: 0.7458091211493316\n",
      " val loss: 0.8449235968133236, val acc: 0.7130762412192974\n",
      "\n",
      "Epoch 16\n",
      " train loss: 0.7250730256384862, train acc: 0.7508528662991916\n",
      " val loss: 0.8382191320683093, val acc: 0.7103945034615538\n",
      "\n",
      "Epoch 17\n",
      " train loss: 0.7161411511178862, train acc: 0.7512242099920619\n",
      " val loss: 0.8254962374555304, val acc: 0.7161125885679367\n",
      "\n",
      "Epoch 18\n",
      " train loss: 0.7096635497139403, train acc: 0.7535706124314442\n",
      " val loss: 0.8325731750498426, val acc: 0.7154255319148937\n",
      "\n",
      "Epoch 19\n",
      " train loss: 0.7007561955308129, train acc: 0.7588183925618202\n",
      " val loss: 0.8369749972160826, val acc: 0.7141400710065314\n",
      "\n"
     ]
    }
   ],
   "source": [
    "net = BasicBlockNet().to(device)\n",
    "optimizer = optim.SGD(net.parameters(), lr=0.1, momentum=0.9)\n",
    "scheduler = optim.lr_scheduler.ExponentialLR(optimizer, gamma=0.9)\n",
    "tr_loss_log, tr_acc_log, val_loss_log, val_acc_log = train(net, optimizer, 20, train_loader, val_loader, scheduler)"
   ]
  },
  {
   "cell_type": "code",
   "execution_count": 58,
   "metadata": {},
   "outputs": [
    {
     "name": "stdout",
     "output_type": "stream",
     "text": [
      "test loss: 0.848785941388197, test acc: 0.7085987261146497\n"
     ]
    }
   ],
   "source": [
    "test_loss, test_acc = test(net, test_loader)\n",
    "print(f\"test loss: {test_loss}, test acc: {test_acc}\")"
   ]
  },
  {
   "cell_type": "code",
   "execution_count": 59,
   "metadata": {},
   "outputs": [
    {
     "name": "stdout",
     "output_type": "stream",
     "text": [
      "Epoch 0\n",
      " train loss: 1.501335785855323, train acc: 0.46311455338485064\n",
      " val loss: 1.3085490604664416, val acc: 0.533311170212766\n",
      "\n",
      "Epoch 1\n",
      " train loss: 1.1863258932146774, train acc: 0.5818057913448954\n",
      " val loss: 1.130162907154002, val acc: 0.593594858240574\n",
      "\n",
      "Epoch 2\n",
      " train loss: 1.044640880834032, train acc: 0.635262960271818\n",
      " val loss: 1.0573441157949732, val acc: 0.6290558510638298\n",
      "\n",
      "Epoch 3\n",
      " train loss: 0.9732689238553509, train acc: 0.661297825834215\n",
      " val loss: 1.024155138401275, val acc: 0.6463430851063829\n",
      "\n",
      "Epoch 4\n",
      " train loss: 0.9234475154545451, train acc: 0.6791182424076296\n",
      " val loss: 0.9586939689960886, val acc: 0.6755540779296388\n",
      "\n",
      "Epoch 5\n",
      " train loss: 0.8856600867328958, train acc: 0.6957226103576926\n",
      " val loss: 0.93962994661737, val acc: 0.6767287234042553\n",
      "\n",
      "Epoch 6\n",
      " train loss: 0.8597455364694543, train acc: 0.7032310982290961\n",
      " val loss: 0.9443917147656704, val acc: 0.6748226949509154\n",
      "\n",
      "Epoch 7\n",
      " train loss: 0.8339333612696562, train acc: 0.7127064833693356\n",
      " val loss: 0.8928380149476072, val acc: 0.6905141843126176\n",
      "\n",
      "Epoch 8\n",
      " train loss: 0.8176525751677031, train acc: 0.7177583898879056\n",
      " val loss: 0.8724261149447015, val acc: 0.6997340425531915\n",
      "\n",
      "Epoch 9\n",
      " train loss: 0.8041448855203945, train acc: 0.72427118696286\n",
      " val loss: 0.8661017717199123, val acc: 0.7041001773895101\n",
      "\n",
      "Epoch 10\n",
      " train loss: 0.795005546245976, train acc: 0.7274622943327239\n",
      " val loss: 0.8582293256800225, val acc: 0.7078235816448293\n",
      "\n",
      "Epoch 11\n",
      " train loss: 0.7887806908195154, train acc: 0.729053767333301\n",
      " val loss: 0.8556434529892942, val acc: 0.7069148936170213\n",
      "\n",
      "Epoch 12\n",
      " train loss: 0.7835757375526254, train acc: 0.7300984264509769\n",
      " val loss: 0.8537719054425016, val acc: 0.7086214539852548\n",
      "\n",
      "Epoch 13\n",
      " train loss: 0.7805608480460465, train acc: 0.7330691759939385\n",
      " val loss: 0.8517715324746802, val acc: 0.7081560284533399\n",
      "\n",
      "Epoch 14\n",
      " train loss: 0.7782378110087986, train acc: 0.7347422630085152\n",
      " val loss: 0.8513463727971341, val acc: 0.7082890071767441\n",
      "\n",
      "Epoch 15\n",
      " train loss: 0.778570951611294, train acc: 0.7328080112145196\n",
      " val loss: 0.8512895883397853, val acc: 0.7072251773895102\n",
      "\n",
      "Epoch 16\n",
      " train loss: 0.778054109766017, train acc: 0.7334894881170019\n",
      " val loss: 0.8514340215540946, val acc: 0.7088874114320634\n",
      "\n",
      "Epoch 17\n",
      " train loss: 0.7783278643649064, train acc: 0.7335466179159049\n",
      " val loss: 0.8513193934521777, val acc: 0.7088209220703612\n",
      "\n",
      "Epoch 18\n",
      " train loss: 0.7765853267156227, train acc: 0.7340893510054844\n",
      " val loss: 0.8510197806865611, val acc: 0.7088209220703612\n",
      "\n",
      "Epoch 19\n",
      " train loss: 0.7779228010604761, train acc: 0.7349789435728377\n",
      " val loss: 0.8515945759225398, val acc: 0.7080452127659574\n",
      "\n"
     ]
    }
   ],
   "source": [
    "net = BasicBlockNet().to(device)\n",
    "optimizer = optim.SGD(net.parameters(), lr=0.1, momentum=0.9)\n",
    "scheduler = optim.lr_scheduler.PolynomialLR(optimizer, 20, power=5)\n",
    "tr_loss_log, tr_acc_log, val_loss_log, val_acc_log = train(net, optimizer, 20, train_loader, val_loader, scheduler)"
   ]
  },
  {
   "cell_type": "code",
   "execution_count": 60,
   "metadata": {},
   "outputs": [
    {
     "name": "stdout",
     "output_type": "stream",
     "text": [
      "test loss: 0.8552840651979872, test acc: 0.7028264331210191\n"
     ]
    }
   ],
   "source": [
    "test_loss, test_acc = test(net, test_loader)\n",
    "print(f\"test loss: {test_loss}, test acc: {test_acc}\")"
   ]
  },
  {
   "cell_type": "markdown",
   "metadata": {
    "id": "5a_zMNNVO9Du",
    "pycharm": {
     "name": "#%% md\n"
    }
   },
   "source": [
    "Метод `ExponentialLR` делает следующее:\n",
    "\n",
    "$$\n",
    "    \\text{lr} = \\text{lr}_0 \\cdot \\gamma^{\\text{epoch}}\n",
    "$$\n",
    "\n",
    "Метод `PolynomialLR` делает следующее:\n",
    "\n",
    "$$\n",
    "    \\text{lr} = \\text{lr}_0 \\cdot \\left( 1 - \\frac{\\text{epoch}}{\\text{max\\_epoch}} \\right)^{\\text{power}}\n",
    "$$\n",
    "\n",
    "Однако они не дали лучшего результата, чем `MultiStepLR`."
   ]
  },
  {
   "cell_type": "markdown",
   "metadata": {
    "id": "7xFXgl_3_E--",
    "pycharm": {
     "name": "#%% md\n"
    }
   },
   "source": [
    "## 4. Аугментации данных (2 балла)"
   ]
  },
  {
   "cell_type": "markdown",
   "metadata": {
    "id": "5G0Easo9O9Du",
    "pycharm": {
     "name": "#%% md\n"
    }
   },
   "source": [
    "Еще одной стандартной техникой, применяющейся в глубинном обучении, а особенно часто в компьютерном зрении, являются аугментации данных. Суть аугментаций состоит в том, что мы можем некоторым синтетическим образом видоизменять объекты обучающей выборки, тем самым расширяя ее, а также делая итоговую модель более устойчивой к таким изменениям.\n",
    "\n",
    "Простейшая аугментация, которую можно применить к картинкам — разворот картинки по горизонтальной оси. То есть при обучении модели с вероятностью $0.5$ мы будем разворачивать картинку из обучающей выборки."
   ]
  },
  {
   "cell_type": "code",
   "execution_count": 61,
   "metadata": {
    "id": "SzeFpgtfO9Du",
    "pycharm": {
     "name": "#%%\n"
    }
   },
   "outputs": [
    {
     "data": {
      "image/png": "[encoded data removed]",
      "text/plain": [
       "<Figure size 640x480 with 1 Axes>"
      ]
     },
     "metadata": {},
     "output_type": "display_data"
    },
    {
     "data": {
      "image/png": "[encoded data removed]",
      "text/plain": [
       "<Figure size 640x480 with 1 Axes>"
      ]
     },
     "metadata": {},
     "output_type": "display_data"
    }
   ],
   "source": [
    "dataiter = iter(train_loader)\n",
    "images, labels = next(dataiter)\n",
    "\n",
    "imshow(torchvision.utils.make_grid(images[:4]))\n",
    "\n",
    "imshow(torchvision.utils.make_grid(transforms.functional.hflip(images[:4])))"
   ]
  },
  {
   "cell_type": "markdown",
   "metadata": {
    "id": "BR4a-XJQO9Du",
    "pycharm": {
     "name": "#%% md\n"
    }
   },
   "source": [
    "Наиболее удобным способом работы с аугментациями в PyTorch является их задание в списке <code>transforms</code>, который затем передается в загрузчик данных. Обучим нашу сеть, применяя горизонтальные повороты:"
   ]
  },
  {
   "cell_type": "code",
   "execution_count": 62,
   "metadata": {
    "id": "na0ScBf-_AqX",
    "pycharm": {
     "name": "#%%\n"
    },
    "scrolled": true
   },
   "outputs": [
    {
     "name": "stdout",
     "output_type": "stream",
     "text": [
      "Files already downloaded and verified\n",
      "Files already downloaded and verified\n",
      "Epoch 0\n",
      " train loss: 1.487519441618562, train acc: 0.4691539892766768\n",
      " val loss: 1.2904491333251304, val acc: 0.540735815560564\n",
      "\n",
      "Epoch 1\n",
      " train loss: 1.1908022293878866, train acc: 0.5812875424704125\n",
      " val loss: 1.1189249279651237, val acc: 0.6087765957446809\n",
      "\n",
      "Epoch 2\n",
      " train loss: 1.062155974412531, train acc: 0.6287583246745401\n",
      " val loss: 1.06074957391049, val acc: 0.6338652481424047\n",
      "\n",
      "Epoch 3\n",
      " train loss: 1.0008763511830319, train acc: 0.6527773243199755\n",
      " val loss: 0.9783727039682104, val acc: 0.6657579787234043\n",
      "\n",
      "Epoch 4\n",
      " train loss: 0.9616123380129254, train acc: 0.6652724275423361\n",
      " val loss: 1.0153586179652112, val acc: 0.6482934396317664\n",
      "\n",
      "Epoch 5\n",
      " train loss: 0.92410719481857, train acc: 0.6793794071870487\n",
      " val loss: 0.9458279434670793, val acc: 0.6687721631628402\n",
      "\n",
      "Epoch 6\n",
      " train loss: 0.910218991461794, train acc: 0.6878427787934186\n",
      " val loss: 0.937745171912173, val acc: 0.6705673758019792\n",
      "\n",
      "Epoch 7\n",
      " train loss: 0.8940784815678431, train acc: 0.6885528205953525\n",
      " val loss: 0.8916123243088417, val acc: 0.689561170212766\n",
      "\n",
      "Epoch 8\n",
      " train loss: 0.8810502538079535, train acc: 0.6956899647738859\n",
      " val loss: 0.9201458367895573, val acc: 0.6817154255319149\n",
      "\n",
      "Epoch 9\n",
      " train loss: 0.8602630161498103, train acc: 0.7005623204180702\n",
      " val loss: 0.8727075669359654, val acc: 0.7084441489361702\n",
      "\n",
      "Epoch 10\n",
      " train loss: 0.7710239514572311, train acc: 0.7359950379000285\n",
      " val loss: 0.8078768564031479, val acc: 0.7235815603682335\n",
      "\n",
      "Epoch 11\n",
      " train loss: 0.7552302831160739, train acc: 0.7391820644765711\n",
      " val loss: 0.801466518894155, val acc: 0.7267730497299356\n",
      "\n",
      "Epoch 12\n",
      " train loss: 0.7488924726380727, train acc: 0.7415284669159535\n",
      " val loss: 0.7977444912524934, val acc: 0.7268617021276595\n",
      "\n",
      "Epoch 13\n",
      " train loss: 0.7440255233639991, train acc: 0.7442625358945927\n",
      " val loss: 0.7887928033128698, val acc: 0.7292109928232559\n",
      "\n",
      "Epoch 14\n",
      " train loss: 0.7415493038062422, train acc: 0.7439360799475605\n",
      " val loss: 0.7928880207082059, val acc: 0.7259086880278081\n",
      "\n",
      "Epoch 15\n",
      " train loss: 0.7290174620569951, train acc: 0.7493919757428074\n",
      " val loss: 0.7842570233852305, val acc: 0.7314273050490846\n",
      "\n",
      "Epoch 16\n",
      " train loss: 0.7260969359107602, train acc: 0.7512650169445784\n",
      " val loss: 0.7802586480658105, val acc: 0.7332003545253835\n",
      "\n",
      "Epoch 17\n",
      " train loss: 0.7257674375116498, train acc: 0.7491634565471949\n",
      " val loss: 0.7835450707597935, val acc: 0.7318927305809995\n",
      "\n",
      "Epoch 18\n",
      " train loss: 0.7246709607636906, train acc: 0.7508528662991916\n",
      " val loss: 0.7807909663687361, val acc: 0.7315381204828303\n",
      "\n",
      "Epoch 19\n",
      " train loss: 0.7248664925477623, train acc: 0.7487839513766482\n",
      " val loss: 0.7816218991228875, val acc: 0.7304742906955962\n",
      "\n"
     ]
    }
   ],
   "source": [
    "transform = transforms.Compose(\n",
    "        [transforms.RandomHorizontalFlip(),\n",
    "         transforms.ToTensor(),\n",
    "         transforms.Normalize((0.5, 0.5, 0.5), (0.5, 0.5, 0.5))]\n",
    ")\n",
    "\n",
    "train_loader, val_loader, test_loader = get_cifar10_data(batch_size=64, transform_train=transform)\n",
    "\n",
    "net = BasicBlockNet().to(device)\n",
    "optimizer = optim.SGD(net.parameters(), lr=0.1, momentum=0.9)\n",
    "scheduler = optim.lr_scheduler.MultiStepLR(optimizer, milestones=[10, 15], gamma=0.1)\n",
    "tr_loss_log, tr_acc_log, val_loss_log, val_acc_log = train(net, optimizer, 20, train_loader, val_loader, scheduler)"
   ]
  },
  {
   "cell_type": "markdown",
   "metadata": {
    "id": "v3ZIqDQqO9Dv",
    "pycharm": {
     "name": "#%% md\n"
    }
   },
   "source": [
    "Посчитайте точность на тестовой выборке:"
   ]
  },
  {
   "cell_type": "code",
   "execution_count": 63,
   "metadata": {
    "id": "nNJizMkM_Auh",
    "pycharm": {
     "name": "#%%\n"
    }
   },
   "outputs": [
    {
     "name": "stdout",
     "output_type": "stream",
     "text": [
      "test loss: 0.7955625250840642, test acc: 0.7306926751592356\n"
     ]
    }
   ],
   "source": [
    "test_loss, test_acc = test(net, test_loader)\n",
    "print(f\"test loss: {test_loss}, test acc: {test_acc}\")"
   ]
  },
  {
   "cell_type": "markdown",
   "metadata": {
    "id": "KndehSCHO9Dv",
    "pycharm": {
     "name": "#%% md\n"
    }
   },
   "source": [
    "**Задание 4.1 (2 балла).** Изучите, какие еще способы аугментаций изображений представлены в <code>torchvision.transforms</code>. Выберите несколько из них, объясните, как они устроены, и обучите модель с ними (по отдельности и вместе). Удалось ли добиться улучшения качества на тестовой выборке?"
   ]
  },
  {
   "cell_type": "code",
   "execution_count": 65,
   "metadata": {
    "id": "Np4rgvdZ_QRF",
    "pycharm": {
     "name": "#%%\n"
    }
   },
   "outputs": [
    {
     "name": "stdout",
     "output_type": "stream",
     "text": [
      "Files already downloaded and verified\n",
      "Files already downloaded and verified\n",
      "Epoch 0\n",
      " train loss: 1.5573058830100832, train acc: 0.445441042047532\n",
      " val loss: 1.3986848075339136, val acc: 0.5021054964116279\n",
      "\n",
      "Epoch 1\n",
      " train loss: 1.246010239316079, train acc: 0.5638221467434815\n",
      " val loss: 1.1631235607126926, val acc: 0.5971409574468085\n",
      "\n",
      "Epoch 2\n",
      " train loss: 1.1145189363080361, train acc: 0.6110399255369001\n",
      " val loss: 1.1135771634730887, val acc: 0.6152703901554676\n",
      "\n",
      "Epoch 3\n",
      " train loss: 1.0539649432930258, train acc: 0.6342672694753685\n",
      " val loss: 1.069182842843076, val acc: 0.6324911348363187\n",
      "\n",
      "Epoch 4\n",
      " train loss: 1.009698831838925, train acc: 0.6512307390652365\n",
      " val loss: 1.0582824846531482, val acc: 0.63532801422667\n",
      "\n",
      "Epoch 5\n",
      " train loss: 0.9759141159885762, train acc: 0.6600776965265083\n",
      " val loss: 1.0011419991229442, val acc: 0.6533909574468085\n",
      "\n",
      "Epoch 6\n",
      " train loss: 0.9550247101940664, train acc: 0.6690715591693926\n",
      " val loss: 1.001518191175258, val acc: 0.6509751773895102\n",
      "\n",
      "Epoch 7\n",
      " train loss: 0.9369782403356632, train acc: 0.675021219624026\n",
      " val loss: 0.9922435078215092, val acc: 0.6575354609083622\n",
      "\n",
      "Epoch 8\n",
      " train loss: 0.924934906432136, train acc: 0.6801016910420475\n",
      " val loss: 0.9661752756605757, val acc: 0.6682624114320633\n",
      "\n",
      "Epoch 9\n",
      " train loss: 0.9017377955604079, train acc: 0.6868266844662277\n",
      " val loss: 0.9449626851589121, val acc: 0.6804078014607126\n",
      "\n",
      "Epoch 10\n",
      " train loss: 0.8060238557498242, train acc: 0.7226878754399594\n",
      " val loss: 0.8730834512000388, val acc: 0.7001108156873824\n",
      "\n",
      "Epoch 11\n",
      " train loss: 0.7888385384348672, train acc: 0.7288987006740116\n",
      " val loss: 0.8747154836959027, val acc: 0.7013519502700644\n",
      "\n",
      "Epoch 12\n",
      " train loss: 0.781471660411772, train acc: 0.7307227735545561\n",
      " val loss: 0.8670608822335588, val acc: 0.7014406029214251\n",
      "\n",
      "Epoch 13\n",
      " train loss: 0.77740183162079, train acc: 0.7325305235887141\n",
      " val loss: 0.8651786324825693, val acc: 0.702593085106383\n",
      "\n",
      "Epoch 14\n",
      " train loss: 0.7729797495130647, train acc: 0.7337588142651309\n",
      " val loss: 0.8619663403389302, val acc: 0.7048093970785749\n",
      "\n",
      "Epoch 15\n",
      " train loss: 0.7610300787515135, train acc: 0.7396635870828925\n",
      " val loss: 0.8536969788531039, val acc: 0.7059175531914894\n",
      "\n",
      "Epoch 16\n",
      " train loss: 0.7556687076959139, train acc: 0.7396105379683444\n",
      " val loss: 0.8555504286542852, val acc: 0.705718085106383\n",
      "\n",
      "Epoch 17\n",
      " train loss: 0.7572580178215473, train acc: 0.7382720683784764\n",
      " val loss: 0.8554236612421401, val acc: 0.7066046098445324\n",
      "\n",
      "Epoch 18\n",
      " train loss: 0.7562078823773037, train acc: 0.7401043027366973\n",
      " val loss: 0.8556445109083297, val acc: 0.7065381204828303\n",
      "\n",
      "Epoch 19\n",
      " train loss: 0.7566570164516595, train acc: 0.7416835335752427\n",
      " val loss: 0.8563720835016129, val acc: 0.7065602837724888\n",
      "\n"
     ]
    }
   ],
   "source": [
    "transform = transforms.Compose(\n",
    "        [transforms.ColorJitter(0.3, 0.3, 0.1, 0.05),\n",
    "         transforms.ToTensor(),\n",
    "         transforms.Normalize((0.5, 0.5, 0.5), (0.5, 0.5, 0.5))]\n",
    ")\n",
    "\n",
    "train_loader, val_loader, test_loader = get_cifar10_data(batch_size=64, transform_train=transform)\n",
    "\n",
    "net = BasicBlockNet().to(device)\n",
    "optimizer = optim.SGD(net.parameters(), lr=0.1, momentum=0.9)\n",
    "scheduler = optim.lr_scheduler.MultiStepLR(optimizer, milestones=[10, 15], gamma=0.1)\n",
    "tr_loss_log, tr_acc_log, val_loss_log, val_acc_log = train(net, optimizer, 20, train_loader, val_loader, scheduler)"
   ]
  },
  {
   "cell_type": "code",
   "execution_count": 66,
   "metadata": {},
   "outputs": [
    {
     "name": "stdout",
     "output_type": "stream",
     "text": [
      "test loss: 0.8379156699605809, test acc: 0.7146695859872612\n"
     ]
    }
   ],
   "source": [
    "test_loss, test_acc = test(net, test_loader)\n",
    "print(f\"test loss: {test_loss}, test acc: {test_acc}\")"
   ]
  },
  {
   "cell_type": "code",
   "execution_count": 70,
   "metadata": {},
   "outputs": [
    {
     "name": "stdout",
     "output_type": "stream",
     "text": [
      "Files already downloaded and verified\n",
      "Files already downloaded and verified\n",
      "Epoch 0\n",
      " train loss: 1.6073094545378328, train acc: 0.4273023308957952\n",
      " val loss: 1.483128785072489, val acc: 0.4659796099713508\n",
      "\n",
      "Epoch 1\n",
      " train loss: 1.3849971758600126, train acc: 0.5090142661191428\n",
      " val loss: 1.3013593470796625, val acc: 0.5403147163543295\n",
      "\n",
      "Epoch 2\n",
      " train loss: 1.2872351620489326, train acc: 0.5452386393080682\n",
      " val loss: 1.2414918508935482, val acc: 0.5635638297872341\n",
      "\n",
      "Epoch 3\n",
      " train loss: 1.2217416329619217, train acc: 0.5704287999944669\n",
      " val loss: 1.2048328754749704, val acc: 0.5784131206096487\n",
      "\n",
      "Epoch 4\n",
      " train loss: 1.1765336075038317, train acc: 0.5892041003028479\n",
      " val loss: 1.1910238544991676, val acc: 0.5879875886947551\n",
      "\n",
      "Epoch 5\n",
      " train loss: 1.1601848856186736, train acc: 0.5915505027422303\n",
      " val loss: 1.1769922687652263, val acc: 0.5878324468085107\n",
      "\n",
      "Epoch 6\n",
      " train loss: 1.1344993614627412, train acc: 0.6031356098664962\n",
      " val loss: 1.1389466798051875, val acc: 0.6001773050490846\n",
      "\n",
      "Epoch 7\n",
      " train loss: 1.1265127422386811, train acc: 0.6053391878086208\n",
      " val loss: 1.1272324866436898, val acc: 0.6070700353764473\n",
      "\n",
      "Epoch 8\n",
      " train loss: 1.1064412412957256, train acc: 0.6090485440529678\n",
      " val loss: 1.1409927850073955, val acc: 0.6011303191489362\n",
      "\n",
      "Epoch 9\n",
      " train loss: 1.0914345840213504, train acc: 0.6160632671560187\n",
      " val loss: 1.1463353101243363, val acc: 0.6060726949509154\n",
      "\n",
      "Epoch 10\n",
      " train loss: 0.9850380707266562, train acc: 0.6548299163961323\n",
      " val loss: 1.0488368767373106, val acc: 0.6334219859001484\n",
      "\n",
      "Epoch 11\n",
      " train loss: 0.9691770573638693, train acc: 0.6604000717891854\n",
      " val loss: 1.0464358953719444, val acc: 0.6362367021276596\n",
      "\n",
      "Epoch 12\n",
      " train loss: 0.9639644742665823, train acc: 0.6638033755082753\n",
      " val loss: 1.039004739041024, val acc: 0.6412677305809995\n",
      "\n",
      "Epoch 13\n",
      " train loss: 0.962154275647465, train acc: 0.6653622029250457\n",
      " val loss: 1.0306300992661335, val acc: 0.6411790779296388\n",
      "\n",
      "Epoch 14\n",
      " train loss: 0.9586938250217403, train acc: 0.663354498594727\n",
      " val loss: 1.0328338988283847, val acc: 0.6414671986661059\n",
      "\n",
      "Epoch 15\n",
      " train loss: 0.9422316676519906, train acc: 0.6708507443040991\n",
      " val loss: 1.0235244778876609, val acc: 0.6453679077168728\n",
      "\n",
      "Epoch 16\n",
      " train loss: 0.9401833608991703, train acc: 0.6719851789134512\n",
      " val loss: 1.0231344600941272, val acc: 0.6473625885679367\n",
      "\n",
      "Epoch 17\n",
      " train loss: 0.9366356641108636, train acc: 0.6730257573467722\n",
      " val loss: 1.0252003644375092, val acc: 0.6439716311211282\n",
      "\n",
      "Epoch 18\n",
      " train loss: 0.9393670755069042, train acc: 0.6730706450926103\n",
      " val loss: 1.0252784741685745, val acc: 0.6460328013338941\n",
      "\n",
      "Epoch 19\n",
      " train loss: 0.9385687679433735, train acc: 0.6725850418019338\n",
      " val loss: 1.0270415473491588, val acc: 0.6422207446808511\n",
      "\n"
     ]
    }
   ],
   "source": [
    "transform = transforms.Compose(\n",
    "        [transforms.GaussianBlur(kernel_size=11, sigma=(0.1, 2.0)),\n",
    "         transforms.ToTensor(),\n",
    "         transforms.Normalize((0.5, 0.5, 0.5), (0.5, 0.5, 0.5))]\n",
    ")\n",
    "\n",
    "train_loader, val_loader, test_loader = get_cifar10_data(batch_size=64, transform_train=transform)\n",
    "\n",
    "net = BasicBlockNet().to(device)\n",
    "optimizer = optim.SGD(net.parameters(), lr=0.1, momentum=0.9)\n",
    "scheduler = optim.lr_scheduler.MultiStepLR(optimizer, milestones=[10, 15], gamma=0.1)\n",
    "tr_loss_log, tr_acc_log, val_loss_log, val_acc_log = train(net, optimizer, 20, train_loader, val_loader, scheduler)"
   ]
  },
  {
   "cell_type": "code",
   "execution_count": 71,
   "metadata": {},
   "outputs": [
    {
     "name": "stdout",
     "output_type": "stream",
     "text": [
      "test loss: 0.9822682829419519, test acc: 0.6668988853503185\n"
     ]
    }
   ],
   "source": [
    "test_loss, test_acc = test(net, test_loader)\n",
    "print(f\"test loss: {test_loss}, test acc: {test_acc}\")"
   ]
  },
  {
   "cell_type": "markdown",
   "metadata": {
    "id": "4K-MptLiO9Dv",
    "pycharm": {
     "name": "#%% md\n"
    }
   },
   "source": [
    "Метод `ColorJitter` просто напросто меняет яркость, контрастность, насыщенность и оттенок изображения. \n",
    "\n",
    "Метод `GaussianBlur` применяет Гауссовское размытие, путём свёртки изображения с двумерным Гауссовским фильтром. \n",
    "\n",
    "Улучшить качество не удалось."
   ]
  },
  {
   "cell_type": "markdown",
   "metadata": {
    "id": "HCENjLw5O9Dv",
    "pycharm": {
     "name": "#%% md\n"
    }
   },
   "source": [
    "## Бонус. Логирование в wandb (2 балла)"
   ]
  },
  {
   "cell_type": "markdown",
   "metadata": {
    "id": "xOyzc1mnO9Dv",
    "pycharm": {
     "name": "#%% md\n"
    }
   },
   "source": [
    "На практике специалиста по глубинному обучению часто встречаются ситуации, когда нейросеть учится на каком-то удаленном сервере. И обычно вам хочется отслеживать прогресс обучения, особенно когда время обучения модели исчисляется днями или неделями. Для таких целей существует несколько инструментов. Вероятно, самый популярный из них — [wandb](https://wandb.ai/site).\n",
    "\n",
    "Ваша задача состоит в том, чтобы разобраться как им пользоваться, и повторить задания 2.1 и 2.2 с его использованием. Обучение вы можете запускать в этом же ноутбуке, но теперь вам необходимо через wandb логировать значения функции потерь и точности на обучающей выборке и на валидационной. Результатом работы должны быть ваш код и публичная ссылка на страничку с графиками, идентичными графикам в задании 2.2."
   ]
  },
  {
   "cell_type": "code",
   "execution_count": null,
   "metadata": {
    "id": "m5gSTLAr_QS4",
    "pycharm": {
     "name": "#%%\n"
    }
   },
   "outputs": [],
   "source": [
    "import wandb"
   ]
  },
  {
   "cell_type": "code",
   "execution_count": null,
   "metadata": {},
   "outputs": [],
   "source": [
    "def test(model, loader):\n",
    "    loss_log = []\n",
    "    acc_log = []\n",
    "    model.eval()\n",
    "    \n",
    "    for data, target in loader:\n",
    "        \n",
    "        data = data.to(device)\n",
    "        target = target.to(device)\n",
    "        out = model(data)\n",
    "        loss = F.cross_entropy(out, target)\n",
    "        \n",
    "        loss_log.append(loss.item())\n",
    "        \n",
    "        pred = torch.argmax(out, dim=1)\n",
    "        acc = (pred == target).sum() / len(target)\n",
    "        \n",
    "        acc_log.append(acc.item()) \n",
    "        \n",
    "    return np.mean(loss_log), np.mean(acc_log)\n",
    "\n",
    "def train_epoch(model, optimizer, train_loader):\n",
    "    loss_log = []\n",
    "    acc_log = []\n",
    "    model.train()\n",
    "    \n",
    "    for data, target in train_loader:\n",
    "        \n",
    "        data = data.to(device)\n",
    "        target = target.to(device)\n",
    "        optimizer.zero_grad()\n",
    "        out = model(data)\n",
    "        loss = F.cross_entropy(out, target)\n",
    "        loss.backward()\n",
    "        optimizer.step()\n",
    "        \n",
    "        loss_log.append(loss.item())\n",
    "        \n",
    "        pred = torch.argmax(out, dim=1)\n",
    "        acc = (pred == target).sum() / len(target)\n",
    "        \n",
    "        acc_log.append(acc.item()) \n",
    "    \n",
    "    wandb.log({\n",
    "        'train_loss': np.mean(loss_log),\n",
    "        'train_acc': np.mean(acc_log)\n",
    "    })\n",
    "\n",
    "    return loss_log, acc_log\n",
    "\n",
    "def train(model, optimizer, n_epochs, train_loader, val_loader, scheduler=None):\n",
    "    train_loss_log, train_acc_log, val_loss_log, val_acc_log = [], [], [], []\n",
    "\n",
    "    for epoch in range(n_epochs):\n",
    "        train_loss, train_acc = train_epoch(model, optimizer, train_loader)\n",
    "        val_loss, val_acc = test(model, val_loader)\n",
    "        \n",
    "        train_loss_log.extend(train_loss)\n",
    "        train_acc_log.extend(train_acc)\n",
    "        \n",
    "        val_loss_log.append(val_loss)\n",
    "        val_acc_log.append(val_acc)\n",
    "        \n",
    "        wandb.log({\n",
    "            'val_loss': val_loss,\n",
    "            'val_acc': val_acc\n",
    "        })\n",
    "        \n",
    "        if scheduler is not None:\n",
    "            scheduler.step()\n",
    "\n",
    "    return train_loss_log, train_acc_log, val_loss_log, val_acc_log"
   ]
  },
  {
   "cell_type": "code",
   "execution_count": null,
   "metadata": {},
   "outputs": [],
   "source": [
    "with wandb.init(project='HW'):\n",
    "    net = BasicBlockNet().to(device)\n",
    "    optimizer = optim.SGD(net.parameters(), lr=0.1, momentum=0.9)\n",
    "    transform = transforms.Compose(\n",
    "        [transforms.ToTensor(),\n",
    "         transforms.Normalize((0.5, 0.5, 0.5), (0.5, 0.5, 0.5))]\n",
    "    )\n",
    "    train_loader, val_loader, test_loader = get_cifar10_data(batch_size=64, \n",
    "                                                             transform_train=transform)\n",
    "    train_loss_log, train_acc_log, val_loss_log, val_acc_log = train(net, optimizer, 20, train_loader, val_loader)"
   ]
  },
  {
   "cell_type": "code",
   "execution_count": null,
   "metadata": {},
   "outputs": [],
   "source": []
  }
 ],
 "metadata": {
  "accelerator": "GPU",
  "colab": {
   "collapsed_sections": [],
   "provenance": []
  },
  "kernelspec": {
   "display_name": "base",
   "language": "python",
   "name": "python3"
  },
  "language_info": {
   "codemirror_mode": {
    "name": "ipython",
    "version": 3
   },
   "file_extension": ".py",
   "mimetype": "text/x-python",
   "name": "python",
   "nbconvert_exporter": "python",
   "pygments_lexer": "ipython3",
   "version": "3.12.2"
  },
  "widgets": {
   "application/vnd.jupyter.widget-state+json": {
    "0fee9f5b7bdb4129a71ef0cfe9d3b1fa": {
     "model_module": "@jupyter-widgets/controls",
     "model_module_version": "1.5.0",
     "model_name": "ProgressStyleModel",
     "state": {
      "_model_module": "@jupyter-widgets/controls",
      "_model_module_version": "1.5.0",
      "_model_name": "ProgressStyleModel",
      "_view_count": null,
      "_view_module": "@jupyter-widgets/base",
      "_view_module_version": "1.2.0",
      "_view_name": "StyleView",
      "bar_color": null,
      "description_width": ""
     }
    },
    "17b2be81159e41f1a5c6bb966516572e": {
     "model_module": "@jupyter-widgets/base",
     "model_module_version": "1.2.0",
     "model_name": "LayoutModel",
     "state": {
      "_model_module": "@jupyter-widgets/base",
      "_model_module_version": "1.2.0",
      "_model_name": "LayoutModel",
      "_view_count": null,
      "_view_module": "@jupyter-widgets/base",
      "_view_module_version": "1.2.0",
      "_view_name": "LayoutView",
      "align_content": null,
      "align_items": null,
      "align_self": null,
      "border": null,
      "bottom": null,
      "display": null,
      "flex": null,
      "flex_flow": null,
      "grid_area": null,
      "grid_auto_columns": null,
      "grid_auto_flow": null,
      "grid_auto_rows": null,
      "grid_column": null,
      "grid_gap": null,
      "grid_row": null,
      "grid_template_areas": null,
      "grid_template_columns": null,
      "grid_template_rows": null,
      "height": null,
      "justify_content": null,
      "justify_items": null,
      "left": null,
      "margin": null,
      "max_height": null,
      "max_width": null,
      "min_height": null,
      "min_width": null,
      "object_fit": null,
      "object_position": null,
      "order": null,
      "overflow": null,
      "overflow_x": null,
      "overflow_y": null,
      "padding": null,
      "right": null,
      "top": null,
      "visibility": null,
      "width": null
     }
    },
    "18b20091dbf64b129824a8fb3266e3c0": {
     "model_module": "@jupyter-widgets/controls",
     "model_module_version": "1.5.0",
     "model_name": "DescriptionStyleModel",
     "state": {
      "_model_module": "@jupyter-widgets/controls",
      "_model_module_version": "1.5.0",
      "_model_name": "DescriptionStyleModel",
      "_view_count": null,
      "_view_module": "@jupyter-widgets/base",
      "_view_module_version": "1.2.0",
      "_view_name": "StyleView",
      "description_width": ""
     }
    },
    "22bb21a6c57a413fb7374efe31349e6e": {
     "model_module": "@jupyter-widgets/base",
     "model_module_version": "1.2.0",
     "model_name": "LayoutModel",
     "state": {
      "_model_module": "@jupyter-widgets/base",
      "_model_module_version": "1.2.0",
      "_model_name": "LayoutModel",
      "_view_count": null,
      "_view_module": "@jupyter-widgets/base",
      "_view_module_version": "1.2.0",
      "_view_name": "LayoutView",
      "align_content": null,
      "align_items": null,
      "align_self": null,
      "border": null,
      "bottom": null,
      "display": null,
      "flex": null,
      "flex_flow": null,
      "grid_area": null,
      "grid_auto_columns": null,
      "grid_auto_flow": null,
      "grid_auto_rows": null,
      "grid_column": null,
      "grid_gap": null,
      "grid_row": null,
      "grid_template_areas": null,
      "grid_template_columns": null,
      "grid_template_rows": null,
      "height": null,
      "justify_content": null,
      "justify_items": null,
      "left": null,
      "margin": null,
      "max_height": null,
      "max_width": null,
      "min_height": null,
      "min_width": null,
      "object_fit": null,
      "object_position": null,
      "order": null,
      "overflow": null,
      "overflow_x": null,
      "overflow_y": null,
      "padding": null,
      "right": null,
      "top": null,
      "visibility": null,
      "width": null
     }
    },
    "7d238166caf64537ad9aa2040dcdc1ec": {
     "model_module": "@jupyter-widgets/controls",
     "model_module_version": "1.5.0",
     "model_name": "DescriptionStyleModel",
     "state": {
      "_model_module": "@jupyter-widgets/controls",
      "_model_module_version": "1.5.0",
      "_model_name": "DescriptionStyleModel",
      "_view_count": null,
      "_view_module": "@jupyter-widgets/base",
      "_view_module_version": "1.2.0",
      "_view_name": "StyleView",
      "description_width": ""
     }
    },
    "95c5696493db48738dbdc9940acec1d8": {
     "model_module": "@jupyter-widgets/controls",
     "model_module_version": "1.5.0",
     "model_name": "HTMLModel",
     "state": {
      "_dom_classes": [],
      "_model_module": "@jupyter-widgets/controls",
      "_model_module_version": "1.5.0",
      "_model_name": "HTMLModel",
      "_view_count": null,
      "_view_module": "@jupyter-widgets/controls",
      "_view_module_version": "1.5.0",
      "_view_name": "HTMLView",
      "description": "",
      "description_tooltip": null,
      "layout": "IPY_MODEL_22bb21a6c57a413fb7374efe31349e6e",
      "placeholder": "​",
      "style": "IPY_MODEL_18b20091dbf64b129824a8fb3266e3c0",
      "value": "100%"
     }
    },
    "9bad0d6a00c14229b0d776a2cfe15090": {
     "model_module": "@jupyter-widgets/base",
     "model_module_version": "1.2.0",
     "model_name": "LayoutModel",
     "state": {
      "_model_module": "@jupyter-widgets/base",
      "_model_module_version": "1.2.0",
      "_model_name": "LayoutModel",
      "_view_count": null,
      "_view_module": "@jupyter-widgets/base",
      "_view_module_version": "1.2.0",
      "_view_name": "LayoutView",
      "align_content": null,
      "align_items": null,
      "align_self": null,
      "border": null,
      "bottom": null,
      "display": null,
      "flex": null,
      "flex_flow": null,
      "grid_area": null,
      "grid_auto_columns": null,
      "grid_auto_flow": null,
      "grid_auto_rows": null,
      "grid_column": null,
      "grid_gap": null,
      "grid_row": null,
      "grid_template_areas": null,
      "grid_template_columns": null,
      "grid_template_rows": null,
      "height": null,
      "justify_content": null,
      "justify_items": null,
      "left": null,
      "margin": null,
      "max_height": null,
      "max_width": null,
      "min_height": null,
      "min_width": null,
      "object_fit": null,
      "object_position": null,
      "order": null,
      "overflow": null,
      "overflow_x": null,
      "overflow_y": null,
      "padding": null,
      "right": null,
      "top": null,
      "visibility": null,
      "width": null
     }
    },
    "aa9da821ba0c42b5b051355e50e691f0": {
     "model_module": "@jupyter-widgets/controls",
     "model_module_version": "1.5.0",
     "model_name": "HBoxModel",
     "state": {
      "_dom_classes": [],
      "_model_module": "@jupyter-widgets/controls",
      "_model_module_version": "1.5.0",
      "_model_name": "HBoxModel",
      "_view_count": null,
      "_view_module": "@jupyter-widgets/controls",
      "_view_module_version": "1.5.0",
      "_view_name": "HBoxView",
      "box_style": "",
      "children": [
       "IPY_MODEL_95c5696493db48738dbdc9940acec1d8",
       "IPY_MODEL_fe515a1f743f49d0b251b43919d52a8e",
       "IPY_MODEL_f4f339c969fd4e21bc683ecb2567897b"
      ],
      "layout": "IPY_MODEL_17b2be81159e41f1a5c6bb966516572e"
     }
    },
    "cd991379661b4b4ab405bf66f75c6834": {
     "model_module": "@jupyter-widgets/base",
     "model_module_version": "1.2.0",
     "model_name": "LayoutModel",
     "state": {
      "_model_module": "@jupyter-widgets/base",
      "_model_module_version": "1.2.0",
      "_model_name": "LayoutModel",
      "_view_count": null,
      "_view_module": "@jupyter-widgets/base",
      "_view_module_version": "1.2.0",
      "_view_name": "LayoutView",
      "align_content": null,
      "align_items": null,
      "align_self": null,
      "border": null,
      "bottom": null,
      "display": null,
      "flex": null,
      "flex_flow": null,
      "grid_area": null,
      "grid_auto_columns": null,
      "grid_auto_flow": null,
      "grid_auto_rows": null,
      "grid_column": null,
      "grid_gap": null,
      "grid_row": null,
      "grid_template_areas": null,
      "grid_template_columns": null,
      "grid_template_rows": null,
      "height": null,
      "justify_content": null,
      "justify_items": null,
      "left": null,
      "margin": null,
      "max_height": null,
      "max_width": null,
      "min_height": null,
      "min_width": null,
      "object_fit": null,
      "object_position": null,
      "order": null,
      "overflow": null,
      "overflow_x": null,
      "overflow_y": null,
      "padding": null,
      "right": null,
      "top": null,
      "visibility": null,
      "width": null
     }
    },
    "f4f339c969fd4e21bc683ecb2567897b": {
     "model_module": "@jupyter-widgets/controls",
     "model_module_version": "1.5.0",
     "model_name": "HTMLModel",
     "state": {
      "_dom_classes": [],
      "_model_module": "@jupyter-widgets/controls",
      "_model_module_version": "1.5.0",
      "_model_name": "HTMLModel",
      "_view_count": null,
      "_view_module": "@jupyter-widgets/controls",
      "_view_module_version": "1.5.0",
      "_view_name": "HTMLView",
      "description": "",
      "description_tooltip": null,
      "layout": "IPY_MODEL_cd991379661b4b4ab405bf66f75c6834",
      "placeholder": "​",
      "style": "IPY_MODEL_7d238166caf64537ad9aa2040dcdc1ec",
      "value": " 170498071/170498071 [00:13&lt;00:00, 13339884.37it/s]"
     }
    },
    "fe515a1f743f49d0b251b43919d52a8e": {
     "model_module": "@jupyter-widgets/controls",
     "model_module_version": "1.5.0",
     "model_name": "FloatProgressModel",
     "state": {
      "_dom_classes": [],
      "_model_module": "@jupyter-widgets/controls",
      "_model_module_version": "1.5.0",
      "_model_name": "FloatProgressModel",
      "_view_count": null,
      "_view_module": "@jupyter-widgets/controls",
      "_view_module_version": "1.5.0",
      "_view_name": "ProgressView",
      "bar_style": "success",
      "description": "",
      "description_tooltip": null,
      "layout": "IPY_MODEL_9bad0d6a00c14229b0d776a2cfe15090",
      "max": 170498071,
      "min": 0,
      "orientation": "horizontal",
      "style": "IPY_MODEL_0fee9f5b7bdb4129a71ef0cfe9d3b1fa",
      "value": 170498071
     }
    }
   }
  }
 },
 "nbformat": 4,
 "nbformat_minor": 1
}
